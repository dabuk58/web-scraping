{
 "cells": [
  {
   "cell_type": "code",
   "execution_count": 9,
   "metadata": {},
   "outputs": [],
   "source": [
    "import tensorflow as tf\n",
    "import re\n",
    "import numpy as np"
   ]
  },
  {
   "cell_type": "code",
   "execution_count": 10,
   "metadata": {},
   "outputs": [],
   "source": [
    "\n",
    "def split_words(line):\n",
    "    if \">\" in line and \"<\" in line:\n",
    "        pattern = r'>(.*?)<'\n",
    "        words = re.findall(pattern, line)\n",
    "    else:\n",
    "        words_quot = re.findall(r'\"(.*?)\"', line)\n",
    "        if words_quot:\n",
    "            return words_quot\n",
    "\n",
    "        words = re.split(r'\\s+', line)\n",
    "\n",
    "    words = [word.strip() for word in words if word.strip()]\n",
    "\n",
    "    return words"
   ]
  },
  {
   "cell_type": "code",
   "execution_count": 15,
   "metadata": {},
   "outputs": [
    {
     "name": "stdout",
     "output_type": "stream",
     "text": [
      "['Przejdź do&nbsp;głównej treści', 'Znajdź wolny termin', 'spośród', '6 910 833', 'dostępnych na&nbsp;najbliższy rok', 'Znajdź wolny termin', 'spośród', '6 910 833', 'dostępnych na&nbsp;najbliższy rok']\n",
      "['Poprzednia', 'Następna']\n"
     ]
    }
   ],
   "source": [
    "model = tf.keras.models.load_model('model')\n",
    "data = []\n",
    "with open('../result/0.txt', 'r', encoding='utf-8') as file:\n",
    "    for line in file:\n",
    "                words = split_words(line)\n",
    "                data += words\n",
    "                print(words)\n"
   ]
  },
  {
   "cell_type": "code",
   "execution_count": 16,
   "metadata": {},
   "outputs": [],
   "source": [
    "# Tokenizacja\n",
    "def ngram_tokenizer(text, n, max_ngram_length):\n",
    "    ngrams = [text[i:i+n] for i in range(len(text) - n + 1)]\n",
    "    padded_ngrams = [ord(char) / 255 for ngram in ngrams for char in ngram]\n",
    "    padded_ngrams += [0] * (max_ngram_length - len(padded_ngrams))\n",
    "    return padded_ngrams\n"
   ]
  },
  {
   "cell_type": "code",
   "execution_count": 17,
   "metadata": {},
   "outputs": [],
   "source": [
    "# Funkcja do tokenizacji \n",
    "def tokenize_text(text):\n",
    "    max_word_length = 200\n",
    "    max_ngram_length = 4 * max_word_length  \n",
    "\n",
    "    test_xs_tensor = [ngram_tokenizer(word, n=3, max_ngram_length=max_ngram_length)[:max_word_length] for word in text]\n",
    "    test_stacked_tensor = np.array(test_xs_tensor)\n",
    "    return test_stacked_tensor\n",
    "\n",
    "tokens = tokenize_text(data)\n"
   ]
  },
  {
   "cell_type": "code",
   "execution_count": 18,
   "metadata": {},
   "outputs": [
    {
     "name": "stdout",
     "output_type": "stream",
     "text": [
      "1/1 [==============================] - 0s 120ms/step\n",
      "Przejdź do&nbsp;głównej treści,  [1.] : Tak\n",
      "Znajdź wolny termin,  [0.9998752] : Tak\n",
      "spośród,  [0.06902856] : Nie\n",
      "6 910 833,  [0.01037727] : Nie\n",
      "dostępnych na&nbsp;najbliższy rok,  [1.] : Tak\n",
      "Znajdź wolny termin,  [0.9998752] : Tak\n",
      "spośród,  [0.06902856] : Nie\n",
      "6 910 833,  [0.01037727] : Nie\n",
      "dostępnych na&nbsp;najbliższy rok,  [1.] : Tak\n",
      "Poprzednia,  [0.70842904] : Tak\n",
      "Następna,  [0.7162374] : Tak\n",
      "Ilość predykcji powyżej 0.4: 7\n"
     ]
    }
   ],
   "source": [
    "count_specializations = 0\n",
    "max_word_length = 200 \n",
    "max_ngram_length = 4 * max_word_length \n",
    "\n",
    "test_xs_tensor = [ngram_tokenizer(word, n=3, max_ngram_length=max_ngram_length)[:max_word_length] for word in data]\n",
    "test_stacked_tensor = np.array(test_xs_tensor)\n",
    "\n",
    "predictions = model.predict(test_stacked_tensor)\n",
    "\n",
    "\n",
    "count_specializations = sum(1 for prediction in predictions if prediction >= 0.4)\n",
    "\n",
    "for word, prediction in zip(data, predictions):\n",
    "    is_medical_specialty = \"Tak\" if prediction >= 0.4 else \"Nie\"\n",
    "    print(f\"{word},  {prediction} : {is_medical_specialty}\")\n",
    "\n",
    "print(f\"Ilość predykcji powyżej 0.4: {count_specializations}\")"
   ]
  }
 ],
 "metadata": {
  "kernelspec": {
   "display_name": "Python 3",
   "language": "python",
   "name": "python3"
  },
  "language_info": {
   "codemirror_mode": {
    "name": "ipython",
    "version": 3
   },
   "file_extension": ".py",
   "mimetype": "text/x-python",
   "name": "python",
   "nbconvert_exporter": "python",
   "pygments_lexer": "ipython3",
   "version": "3.10.11"
  }
 },
 "nbformat": 4,
 "nbformat_minor": 2
}
